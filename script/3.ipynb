{
 "cells": [
  {
   "cell_type": "markdown",
   "metadata": {},
   "source": [
    "#### Day 3: Scan for mul(X,X), where x is a 1-3 digit number"
   ]
  },
  {
   "cell_type": "code",
   "execution_count": 23,
   "metadata": {},
   "outputs": [
    {
     "name": "stdout",
     "output_type": "stream",
     "text": [
      "The solution to part 1 is: 188116424\n",
      "The solution to part 2 is: 104245808\n"
     ]
    }
   ],
   "source": [
    "import regex as re\n",
    "def loadData():\n",
    "    with open(\"../input/3.txt\", \"r\") as file:\n",
    "        text = file.read()\n",
    "    return text\n",
    "def loadTest():\n",
    "    return \"xmul(2,4)%&mul[3,7]!@^don't_mul(5,5)+mul(32,64]then(mul(11,8)domul(8,5))\"\n",
    "\n",
    "def findMultiplications(string):\n",
    "    pattern = r\"mul\\([0-9]{1,3},[0-9]{1,3}\\)\"\n",
    "    matches = re.findall(pattern = pattern, string = string)\n",
    "    return matches\n",
    "\n",
    "def part1(string):\n",
    "    matches = findMultiplications(string)\n",
    "    sum = 0\n",
    "    for match in matches: \n",
    "        n1, n2 = re.findall(\"[0-9]{1,3}\", match)\n",
    "        sum += int(n1) * int(n2)\n",
    "    return sum\n",
    "\n",
    "\n",
    "print(\"The solution to part 1 is:\", part1(loadData()))\n",
    "\n",
    "\n",
    "def findDoMultuplications(string):\n",
    "    pattern = r\"mul\\([0-9]{1,3},[0-9]{1,3}\\)|don\\'t|do\"\n",
    "    return re.findall(pattern, string)\n",
    "\n",
    "def part2(string):\n",
    "    \"\"\"Repeat of part 1, except don't disables multiplications until the next instance of do\"\"\"\n",
    "    matches = findDoMultuplications(string)\n",
    "    do = True\n",
    "    sum = 0\n",
    "\n",
    "    for match in matches:\n",
    "        if match == \"don't\":\n",
    "            do = False\n",
    "        elif match == \"do\":\n",
    "            do = True\n",
    "        else: \n",
    "            if do:\n",
    "                n1, n2 = re.findall(\"[0-9]{1,3}\", match)\n",
    "                sum += int(n1) * int(n2)\n",
    "    return sum\n",
    "\n",
    "print(\"The solution to part 2 is:\", part2(loadData()))"
   ]
  }
 ],
 "metadata": {
  "kernelspec": {
   "display_name": "base",
   "language": "python",
   "name": "python3"
  },
  "language_info": {
   "codemirror_mode": {
    "name": "ipython",
    "version": 3
   },
   "file_extension": ".py",
   "mimetype": "text/x-python",
   "name": "python",
   "nbconvert_exporter": "python",
   "pygments_lexer": "ipython3",
   "version": "3.8.3"
  }
 },
 "nbformat": 4,
 "nbformat_minor": 2
}
